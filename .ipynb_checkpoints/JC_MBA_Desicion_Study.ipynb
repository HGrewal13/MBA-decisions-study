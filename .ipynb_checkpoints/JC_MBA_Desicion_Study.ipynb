{
 "cells": [
  {
   "cell_type": "code",
   "execution_count": 100,
   "id": "9691d923-5d07-46ac-b163-81618c228f39",
   "metadata": {},
   "outputs": [],
   "source": [
    "# Import our dependencies\n",
    "\n",
    "import pandas as pd\n",
    "import matplotlib.pyplot as plt\n",
    "from scipy.stats import linregress\n",
    "import numpy as np\n",
    "import scipy.stats as st"
   ]
  },
  {
   "cell_type": "code",
   "execution_count": 101,
   "id": "6a7f7aad-67a5-40f4-bbc8-f4552b636847",
   "metadata": {},
   "outputs": [
    {
     "data": {
      "text/html": [
       "<div>\n",
       "<style scoped>\n",
       "    .dataframe tbody tr th:only-of-type {\n",
       "        vertical-align: middle;\n",
       "    }\n",
       "\n",
       "    .dataframe tbody tr th {\n",
       "        vertical-align: top;\n",
       "    }\n",
       "\n",
       "    .dataframe thead th {\n",
       "        text-align: right;\n",
       "    }\n",
       "</style>\n",
       "<table border=\"1\" class=\"dataframe\">\n",
       "  <thead>\n",
       "    <tr style=\"text-align: right;\">\n",
       "      <th></th>\n",
       "      <th>Person ID</th>\n",
       "      <th>Age</th>\n",
       "      <th>Gender</th>\n",
       "      <th>Undergraduate Major</th>\n",
       "      <th>Undergraduate GPA</th>\n",
       "      <th>Years of Work Experience</th>\n",
       "      <th>Current Job Title</th>\n",
       "      <th>Annual Salary (Before MBA)</th>\n",
       "      <th>Has Management Experience</th>\n",
       "      <th>GRE/GMAT Score</th>\n",
       "      <th>Undergrad University Ranking</th>\n",
       "      <th>Entrepreneurial Interest</th>\n",
       "      <th>Networking Importance</th>\n",
       "      <th>MBA Funding Source</th>\n",
       "      <th>Desired Post-MBA Role</th>\n",
       "      <th>Expected Post-MBA Salary</th>\n",
       "      <th>Location Preference (Post-MBA)</th>\n",
       "      <th>Reason for MBA</th>\n",
       "      <th>Online vs. On-Campus MBA</th>\n",
       "      <th>Decided to Pursue MBA?</th>\n",
       "    </tr>\n",
       "  </thead>\n",
       "  <tbody>\n",
       "    <tr>\n",
       "      <th>0</th>\n",
       "      <td>1</td>\n",
       "      <td>27</td>\n",
       "      <td>Male</td>\n",
       "      <td>Arts</td>\n",
       "      <td>3.18</td>\n",
       "      <td>8</td>\n",
       "      <td>Entrepreneur</td>\n",
       "      <td>90624</td>\n",
       "      <td>No</td>\n",
       "      <td>688</td>\n",
       "      <td>185</td>\n",
       "      <td>7.9</td>\n",
       "      <td>7.6</td>\n",
       "      <td>Loan</td>\n",
       "      <td>Finance Manager</td>\n",
       "      <td>156165</td>\n",
       "      <td>International</td>\n",
       "      <td>Entrepreneurship</td>\n",
       "      <td>On-Campus</td>\n",
       "      <td>Yes</td>\n",
       "    </tr>\n",
       "    <tr>\n",
       "      <th>1</th>\n",
       "      <td>2</td>\n",
       "      <td>24</td>\n",
       "      <td>Male</td>\n",
       "      <td>Arts</td>\n",
       "      <td>3.03</td>\n",
       "      <td>4</td>\n",
       "      <td>Analyst</td>\n",
       "      <td>53576</td>\n",
       "      <td>Yes</td>\n",
       "      <td>791</td>\n",
       "      <td>405</td>\n",
       "      <td>3.8</td>\n",
       "      <td>4.1</td>\n",
       "      <td>Loan</td>\n",
       "      <td>Startup Founder</td>\n",
       "      <td>165612</td>\n",
       "      <td>International</td>\n",
       "      <td>Career Growth</td>\n",
       "      <td>Online</td>\n",
       "      <td>No</td>\n",
       "    </tr>\n",
       "    <tr>\n",
       "      <th>2</th>\n",
       "      <td>3</td>\n",
       "      <td>33</td>\n",
       "      <td>Female</td>\n",
       "      <td>Business</td>\n",
       "      <td>3.66</td>\n",
       "      <td>9</td>\n",
       "      <td>Engineer</td>\n",
       "      <td>79796</td>\n",
       "      <td>No</td>\n",
       "      <td>430</td>\n",
       "      <td>107</td>\n",
       "      <td>6.7</td>\n",
       "      <td>5.5</td>\n",
       "      <td>Scholarship</td>\n",
       "      <td>Consultant</td>\n",
       "      <td>122248</td>\n",
       "      <td>Domestic</td>\n",
       "      <td>Skill Enhancement</td>\n",
       "      <td>Online</td>\n",
       "      <td>No</td>\n",
       "    </tr>\n",
       "    <tr>\n",
       "      <th>3</th>\n",
       "      <td>4</td>\n",
       "      <td>31</td>\n",
       "      <td>Male</td>\n",
       "      <td>Engineering</td>\n",
       "      <td>2.46</td>\n",
       "      <td>1</td>\n",
       "      <td>Manager</td>\n",
       "      <td>105956</td>\n",
       "      <td>No</td>\n",
       "      <td>356</td>\n",
       "      <td>257</td>\n",
       "      <td>1.0</td>\n",
       "      <td>5.3</td>\n",
       "      <td>Loan</td>\n",
       "      <td>Consultant</td>\n",
       "      <td>123797</td>\n",
       "      <td>International</td>\n",
       "      <td>Entrepreneurship</td>\n",
       "      <td>On-Campus</td>\n",
       "      <td>No</td>\n",
       "    </tr>\n",
       "    <tr>\n",
       "      <th>4</th>\n",
       "      <td>5</td>\n",
       "      <td>28</td>\n",
       "      <td>Female</td>\n",
       "      <td>Business</td>\n",
       "      <td>2.75</td>\n",
       "      <td>9</td>\n",
       "      <td>Entrepreneur</td>\n",
       "      <td>96132</td>\n",
       "      <td>No</td>\n",
       "      <td>472</td>\n",
       "      <td>338</td>\n",
       "      <td>9.5</td>\n",
       "      <td>4.9</td>\n",
       "      <td>Loan</td>\n",
       "      <td>Consultant</td>\n",
       "      <td>197509</td>\n",
       "      <td>Domestic</td>\n",
       "      <td>Skill Enhancement</td>\n",
       "      <td>Online</td>\n",
       "      <td>Yes</td>\n",
       "    </tr>\n",
       "  </tbody>\n",
       "</table>\n",
       "</div>"
      ],
      "text/plain": [
       "   Person ID  Age  Gender Undergraduate Major  Undergraduate GPA  \\\n",
       "0          1   27    Male                Arts               3.18   \n",
       "1          2   24    Male                Arts               3.03   \n",
       "2          3   33  Female            Business               3.66   \n",
       "3          4   31    Male         Engineering               2.46   \n",
       "4          5   28  Female            Business               2.75   \n",
       "\n",
       "   Years of Work Experience Current Job Title  Annual Salary (Before MBA)  \\\n",
       "0                         8      Entrepreneur                       90624   \n",
       "1                         4           Analyst                       53576   \n",
       "2                         9          Engineer                       79796   \n",
       "3                         1           Manager                      105956   \n",
       "4                         9      Entrepreneur                       96132   \n",
       "\n",
       "  Has Management Experience  GRE/GMAT Score  Undergrad University Ranking  \\\n",
       "0                        No             688                           185   \n",
       "1                       Yes             791                           405   \n",
       "2                        No             430                           107   \n",
       "3                        No             356                           257   \n",
       "4                        No             472                           338   \n",
       "\n",
       "   Entrepreneurial Interest  Networking Importance MBA Funding Source  \\\n",
       "0                       7.9                    7.6               Loan   \n",
       "1                       3.8                    4.1               Loan   \n",
       "2                       6.7                    5.5        Scholarship   \n",
       "3                       1.0                    5.3               Loan   \n",
       "4                       9.5                    4.9               Loan   \n",
       "\n",
       "  Desired Post-MBA Role  Expected Post-MBA Salary  \\\n",
       "0       Finance Manager                    156165   \n",
       "1       Startup Founder                    165612   \n",
       "2            Consultant                    122248   \n",
       "3            Consultant                    123797   \n",
       "4            Consultant                    197509   \n",
       "\n",
       "  Location Preference (Post-MBA)     Reason for MBA Online vs. On-Campus MBA  \\\n",
       "0                  International   Entrepreneurship                On-Campus   \n",
       "1                  International      Career Growth                   Online   \n",
       "2                       Domestic  Skill Enhancement                   Online   \n",
       "3                  International   Entrepreneurship                On-Campus   \n",
       "4                       Domestic  Skill Enhancement                   Online   \n",
       "\n",
       "  Decided to Pursue MBA?  \n",
       "0                    Yes  \n",
       "1                     No  \n",
       "2                     No  \n",
       "3                     No  \n",
       "4                    Yes  "
      ]
     },
     "execution_count": 101,
     "metadata": {},
     "output_type": "execute_result"
    }
   ],
   "source": [
    "# Import our csv file\n",
    "\n",
    "file = \"C:/Users/chara/Downloads/mba_decision_dataset.csv\"\n",
    "decision_df = pd.read_csv(file)\n",
    "decision_df.head()"
   ]
  },
  {
   "cell_type": "code",
   "execution_count": 124,
   "id": "d82f1bc2-d337-4a39-b5c3-9df1e1f1aa89",
   "metadata": {},
   "outputs": [
    {
     "data": {
      "text/html": [
       "<div>\n",
       "<style scoped>\n",
       "    .dataframe tbody tr th:only-of-type {\n",
       "        vertical-align: middle;\n",
       "    }\n",
       "\n",
       "    .dataframe tbody tr th {\n",
       "        vertical-align: top;\n",
       "    }\n",
       "\n",
       "    .dataframe thead th {\n",
       "        text-align: right;\n",
       "    }\n",
       "</style>\n",
       "<table border=\"1\" class=\"dataframe\">\n",
       "  <thead>\n",
       "    <tr style=\"text-align: right;\">\n",
       "      <th></th>\n",
       "      <th>Person ID</th>\n",
       "      <th>Age</th>\n",
       "      <th>Gender</th>\n",
       "      <th>Decided to Pursue MBA?</th>\n",
       "      <th>Current Job Title</th>\n",
       "      <th>Annual Salary (Before MBA)</th>\n",
       "      <th>Years of Work Experience</th>\n",
       "      <th>Reason for MBA</th>\n",
       "      <th>Has Management Experience</th>\n",
       "    </tr>\n",
       "  </thead>\n",
       "  <tbody>\n",
       "    <tr>\n",
       "      <th>0</th>\n",
       "      <td>1</td>\n",
       "      <td>27</td>\n",
       "      <td>Male</td>\n",
       "      <td>Yes</td>\n",
       "      <td>Entrepreneur</td>\n",
       "      <td>90624</td>\n",
       "      <td>8</td>\n",
       "      <td>Entrepreneurship</td>\n",
       "      <td>No</td>\n",
       "    </tr>\n",
       "    <tr>\n",
       "      <th>1</th>\n",
       "      <td>2</td>\n",
       "      <td>24</td>\n",
       "      <td>Male</td>\n",
       "      <td>No</td>\n",
       "      <td>Analyst</td>\n",
       "      <td>53576</td>\n",
       "      <td>4</td>\n",
       "      <td>Career Growth</td>\n",
       "      <td>Yes</td>\n",
       "    </tr>\n",
       "    <tr>\n",
       "      <th>2</th>\n",
       "      <td>3</td>\n",
       "      <td>33</td>\n",
       "      <td>Female</td>\n",
       "      <td>No</td>\n",
       "      <td>Engineer</td>\n",
       "      <td>79796</td>\n",
       "      <td>9</td>\n",
       "      <td>Skill Enhancement</td>\n",
       "      <td>No</td>\n",
       "    </tr>\n",
       "    <tr>\n",
       "      <th>3</th>\n",
       "      <td>4</td>\n",
       "      <td>31</td>\n",
       "      <td>Male</td>\n",
       "      <td>No</td>\n",
       "      <td>Manager</td>\n",
       "      <td>105956</td>\n",
       "      <td>1</td>\n",
       "      <td>Entrepreneurship</td>\n",
       "      <td>No</td>\n",
       "    </tr>\n",
       "    <tr>\n",
       "      <th>4</th>\n",
       "      <td>5</td>\n",
       "      <td>28</td>\n",
       "      <td>Female</td>\n",
       "      <td>Yes</td>\n",
       "      <td>Entrepreneur</td>\n",
       "      <td>96132</td>\n",
       "      <td>9</td>\n",
       "      <td>Skill Enhancement</td>\n",
       "      <td>No</td>\n",
       "    </tr>\n",
       "  </tbody>\n",
       "</table>\n",
       "</div>"
      ],
      "text/plain": [
       "   Person ID  Age  Gender Decided to Pursue MBA? Current Job Title  \\\n",
       "0          1   27    Male                    Yes      Entrepreneur   \n",
       "1          2   24    Male                     No           Analyst   \n",
       "2          3   33  Female                     No          Engineer   \n",
       "3          4   31    Male                     No           Manager   \n",
       "4          5   28  Female                    Yes      Entrepreneur   \n",
       "\n",
       "   Annual Salary (Before MBA)  Years of Work Experience     Reason for MBA  \\\n",
       "0                       90624                         8   Entrepreneurship   \n",
       "1                       53576                         4      Career Growth   \n",
       "2                       79796                         9  Skill Enhancement   \n",
       "3                      105956                         1   Entrepreneurship   \n",
       "4                       96132                         9  Skill Enhancement   \n",
       "\n",
       "  Has Management Experience  \n",
       "0                        No  \n",
       "1                       Yes  \n",
       "2                        No  \n",
       "3                        No  \n",
       "4                        No  "
      ]
     },
     "execution_count": 124,
     "metadata": {},
     "output_type": "execute_result"
    }
   ],
   "source": [
    "#Create a gender-specific dataframe\n",
    "\n",
    "gender_based_df= decision_df[[\"Person ID\",\"Age\",\"Gender\",\"Decided to Pursue MBA?\",\"Current Job Title\",\"Annual Salary (Before MBA)\",\"Years of Work Experience\",\"Reason for MBA\",\"Has Management Experience\"]]\n",
    "gender_based_df.head()"
   ]
  },
  {
   "cell_type": "code",
   "execution_count": null,
   "id": "d0e63011-aa19-449c-a971-120fa74860ce",
   "metadata": {},
   "outputs": [],
   "source": []
  },
  {
   "cell_type": "code",
   "execution_count": 131,
   "id": "26dcbc8f-8cfc-4bf7-b476-809be3ce5ce8",
   "metadata": {},
   "outputs": [
    {
     "data": {
      "text/html": [
       "<div>\n",
       "<style scoped>\n",
       "    .dataframe tbody tr th:only-of-type {\n",
       "        vertical-align: middle;\n",
       "    }\n",
       "\n",
       "    .dataframe tbody tr th {\n",
       "        vertical-align: top;\n",
       "    }\n",
       "\n",
       "    .dataframe thead th {\n",
       "        text-align: right;\n",
       "    }\n",
       "</style>\n",
       "<table border=\"1\" class=\"dataframe\">\n",
       "  <thead>\n",
       "    <tr style=\"text-align: right;\">\n",
       "      <th></th>\n",
       "      <th>Person ID</th>\n",
       "      <th>Age</th>\n",
       "      <th>Gender</th>\n",
       "      <th>Decided to Pursue MBA?</th>\n",
       "      <th>Current Job Title</th>\n",
       "      <th>Annual Salary (Before MBA)</th>\n",
       "      <th>Years of Work Experience</th>\n",
       "      <th>Reason for MBA</th>\n",
       "      <th>Has Management Experience</th>\n",
       "    </tr>\n",
       "  </thead>\n",
       "  <tbody>\n",
       "  </tbody>\n",
       "</table>\n",
       "</div>"
      ],
      "text/plain": [
       "Empty DataFrame\n",
       "Columns: [Person ID, Age, Gender, Decided to Pursue MBA?, Current Job Title, Annual Salary (Before MBA), Years of Work Experience, Reason for MBA, Has Management Experience]\n",
       "Index: []"
      ]
     },
     "execution_count": 131,
     "metadata": {},
     "output_type": "execute_result"
    }
   ],
   "source": [
    "MBA_pursuers = gender_based_df.loc[gender_based_df[\"Decided to Pursue MBA?\"] == 1]\n",
    "MBA_pursuers"
   ]
  },
  {
   "cell_type": "code",
   "execution_count": 133,
   "id": "52b2d3dd-3b68-4370-aca1-92acfb5e91d5",
   "metadata": {},
   "outputs": [
    {
     "data": {
      "text/plain": [
       "Gender\n",
       "Male      5073\n",
       "Female    4460\n",
       "Other      467\n",
       "Name: count, dtype: int64"
      ]
     },
     "execution_count": 133,
     "metadata": {},
     "output_type": "execute_result"
    }
   ],
   "source": [
    "#Value counts of the gender\n",
    "gender_data_df = gender_based_df[\"Gender\"].value_counts()\n",
    "gender_data_df"
   ]
  },
  {
   "cell_type": "code",
   "execution_count": 135,
   "id": "71c74be8-047f-41ad-b165-8e50cefe3597",
   "metadata": {},
   "outputs": [
    {
     "data": {
      "image/png": "[encoded data removed]",
      "text/plain": [
       "<Figure size 640x480 with 1 Axes>"
      ]
     },
     "metadata": {},
     "output_type": "display_data"
    }
   ],
   "source": [
    "# Create a pie-chart showing gender that was more keen on pursuing the MBA\n",
    "\n",
    "gender_data_df.plot.pie(y = gender_data_df,labels = gender_data_df.index, autopct = \"%1.1f%%\", startangle=90)\n",
    "\n",
    "plt.title(\"Gender vs MBA Pursuers\")\n",
    "plt.ylabel(\"\")\n",
    "plt.show()"
   ]
  },
  {
   "cell_type": "code",
   "execution_count": null,
   "id": "3610d3a1-ce6f-46cf-b6fb-7906c44d33d5",
   "metadata": {},
   "outputs": [],
   "source": []
  },
  {
   "cell_type": "code",
   "execution_count": 106,
   "id": "31f53229-3923-4fa4-bb08-ee5576c6b510",
   "metadata": {},
   "outputs": [
    {
     "data": {
      "text/plain": [
       "Gender\n",
       "Female    27.473094\n",
       "Male      27.539129\n",
       "Other     27.209850\n",
       "Name: Age, dtype: float64"
      ]
     },
     "execution_count": 106,
     "metadata": {},
     "output_type": "execute_result"
    }
   ],
   "source": [
    "#grouby age \n",
    "per_age_df =gender_based_df.groupby([\"Gender\"])[\"Age\"].mean()\n",
    "per_age_df\n"
   ]
  },
  {
   "cell_type": "code",
   "execution_count": 154,
   "id": "31625d78-ef5d-46a0-9379-f58048a0ac66",
   "metadata": {},
   "outputs": [
    {
     "data": {
      "text/plain": [
       "<function matplotlib.pyplot.show(close=None, block=None)>"
      ]
     },
     "execution_count": 154,
     "metadata": {},
     "output_type": "execute_result"
    },
    {
     "data": {
      "image/png": "[encoded data removed]",
      "text/plain": [
       "<Figure size 800x500 with 1 Axes>"
      ]
     },
     "metadata": {},
     "output_type": "display_data"
    }
   ],
   "source": [
    "# Create a bar chart that presents a comaprision between the age of the applicant and pursuing MBA\n",
    "\n",
    "age_comparision = gender_based_df.groupby([\"Gender\", \"Decided to Pursue MBA?\"])[\"Age\"].mean().unstack()\n",
    "\n",
    "#plot a bar cahrt\n",
    "age_comparision.plot(kind=\"bar\", figsize =(8,5), colormap=\"cool\")\n",
    "\n",
    "plt.xlabel(\"Gender\")\n",
    "plt.ylabel(\"Average Age\")\n",
    "plt.title(\"Average Age by Gender and MBA Decision\")\n",
    "plt.legend(title=\"Pursued MBA\", labels = [\"No\", \"Yes\"])\n",
    "plt.show"
   ]
  },
  {
   "cell_type": "code",
   "execution_count": 108,
   "id": "cf2e2f71-c350-4b3c-bed5-b18d5193c784",
   "metadata": {},
   "outputs": [
    {
     "data": {
      "text/plain": [
       "Gender\n",
       "Female    75445.644170\n",
       "Male      75044.583284\n",
       "Other     73822.955032\n",
       "Name: Annual Salary (Before MBA), dtype: float64"
      ]
     },
     "execution_count": 108,
     "metadata": {},
     "output_type": "execute_result"
    }
   ],
   "source": [
    "\n",
    "#grouby salaries \n",
    "per_salaries_df =gender_based_df.groupby([\"Gender\"])[\"Annual Salary (Before MBA)\"].mean()\n",
    "per_salaries_df\n",
    "\n"
   ]
  },
  {
   "cell_type": "code",
   "execution_count": 158,
   "id": "f3eed694-baaa-4e6c-b24d-3e903b765065",
   "metadata": {},
   "outputs": [
    {
     "data": {
      "image/png": "[encoded data removed]",
      "text/plain": [
       "<Figure size 800x500 with 1 Axes>"
      ]
     },
     "metadata": {},
     "output_type": "display_data"
    }
   ],
   "source": [
    "#Create a line chart showing the average salaries before the applicants pursued MBA\n",
    "per_salaries_df.plot(kind=\"line\", marker= \"o\", figsize = (8,5), title= \"Average Salary Before MBA by Gender\")\n",
    "\n",
    "#labels\n",
    "plt.xlabel(\"Gender\")\n",
    "plt.ylabel(\"Average Salary (Before MBA)\")\n",
    "plt.grid(\"True\")\n",
    "\n",
    "#Show plot\n",
    "plt.show()"
   ]
  },
  {
   "cell_type": "code",
   "execution_count": null,
   "id": "92ede6e6-a91e-402e-8736-4902192f8eab",
   "metadata": {},
   "outputs": [],
   "source": []
  },
  {
   "cell_type": "code",
   "execution_count": null,
   "id": "6ca47979-5e56-43c2-9f20-73b474309663",
   "metadata": {},
   "outputs": [],
   "source": []
  }
 ],
 "metadata": {
  "kernelspec": {
   "display_name": "Python [conda env:base] *",
   "language": "python",
   "name": "conda-base-py"
  },
  "language_info": {
   "codemirror_mode": {
    "name": "ipython",
    "version": 3
   },
   "file_extension": ".py",
   "mimetype": "text/x-python",
   "name": "python",
   "nbconvert_exporter": "python",
   "pygments_lexer": "ipython3",
   "version": "3.12.7"
  }
 },
 "nbformat": 4,
 "nbformat_minor": 5
}
