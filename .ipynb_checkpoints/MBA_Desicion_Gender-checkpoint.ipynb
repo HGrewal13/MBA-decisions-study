{
 "cells": [
  {
   "cell_type": "code",
   "execution_count": 1,
   "id": "9691d923-5d07-46ac-b163-81618c228f39",
   "metadata": {},
   "outputs": [],
   "source": [
    "# Import our dependencies\n",
    "\n",
    "import pandas as pd\n",
    "import matplotlib.pyplot as plt\n",
    "import numpy as np\n",
    "import scipy.stats as st\n",
    "import statsmodels.api as sm"
   ]
  },
  {
   "cell_type": "markdown",
   "id": "86cac635-2f54-4e3c-9255-5f85e23a6f1a",
   "metadata": {},
   "source": [
    "## Creating Initial DataFrame"
   ]
  },
  {
   "cell_type": "code",
   "execution_count": 2,
   "id": "6a7f7aad-67a5-40f4-bbc8-f4552b636847",
   "metadata": {},
   "outputs": [
    {
     "data": {
      "text/html": [
       "<div>\n",
       "<style scoped>\n",
       "    .dataframe tbody tr th:only-of-type {\n",
       "        vertical-align: middle;\n",
       "    }\n",
       "\n",
       "    .dataframe tbody tr th {\n",
       "        vertical-align: top;\n",
       "    }\n",
       "\n",
       "    .dataframe thead th {\n",
       "        text-align: right;\n",
       "    }\n",
       "</style>\n",
       "<table border=\"1\" class=\"dataframe\">\n",
       "  <thead>\n",
       "    <tr style=\"text-align: right;\">\n",
       "      <th></th>\n",
       "      <th>Person ID</th>\n",
       "      <th>Age</th>\n",
       "      <th>Gender</th>\n",
       "      <th>Undergraduate Major</th>\n",
       "      <th>Undergraduate GPA</th>\n",
       "      <th>Years of Work Experience</th>\n",
       "      <th>Current Job Title</th>\n",
       "      <th>Annual Salary (Before MBA)</th>\n",
       "      <th>Has Management Experience</th>\n",
       "      <th>GRE/GMAT Score</th>\n",
       "      <th>Undergrad University Ranking</th>\n",
       "      <th>Entrepreneurial Interest</th>\n",
       "      <th>Networking Importance</th>\n",
       "      <th>MBA Funding Source</th>\n",
       "      <th>Desired Post-MBA Role</th>\n",
       "      <th>Expected Post-MBA Salary</th>\n",
       "      <th>Location Preference (Post-MBA)</th>\n",
       "      <th>Reason for MBA</th>\n",
       "      <th>Online vs. On-Campus MBA</th>\n",
       "      <th>Decided to Pursue MBA?</th>\n",
       "    </tr>\n",
       "  </thead>\n",
       "  <tbody>\n",
       "    <tr>\n",
       "      <th>0</th>\n",
       "      <td>1</td>\n",
       "      <td>27</td>\n",
       "      <td>Male</td>\n",
       "      <td>Arts</td>\n",
       "      <td>3.18</td>\n",
       "      <td>8</td>\n",
       "      <td>Entrepreneur</td>\n",
       "      <td>90624</td>\n",
       "      <td>No</td>\n",
       "      <td>688</td>\n",
       "      <td>185</td>\n",
       "      <td>7.9</td>\n",
       "      <td>7.6</td>\n",
       "      <td>Loan</td>\n",
       "      <td>Finance Manager</td>\n",
       "      <td>156165</td>\n",
       "      <td>International</td>\n",
       "      <td>Entrepreneurship</td>\n",
       "      <td>On-Campus</td>\n",
       "      <td>Yes</td>\n",
       "    </tr>\n",
       "    <tr>\n",
       "      <th>1</th>\n",
       "      <td>2</td>\n",
       "      <td>24</td>\n",
       "      <td>Male</td>\n",
       "      <td>Arts</td>\n",
       "      <td>3.03</td>\n",
       "      <td>4</td>\n",
       "      <td>Analyst</td>\n",
       "      <td>53576</td>\n",
       "      <td>Yes</td>\n",
       "      <td>791</td>\n",
       "      <td>405</td>\n",
       "      <td>3.8</td>\n",
       "      <td>4.1</td>\n",
       "      <td>Loan</td>\n",
       "      <td>Startup Founder</td>\n",
       "      <td>165612</td>\n",
       "      <td>International</td>\n",
       "      <td>Career Growth</td>\n",
       "      <td>Online</td>\n",
       "      <td>No</td>\n",
       "    </tr>\n",
       "    <tr>\n",
       "      <th>2</th>\n",
       "      <td>3</td>\n",
       "      <td>33</td>\n",
       "      <td>Female</td>\n",
       "      <td>Business</td>\n",
       "      <td>3.66</td>\n",
       "      <td>9</td>\n",
       "      <td>Engineer</td>\n",
       "      <td>79796</td>\n",
       "      <td>No</td>\n",
       "      <td>430</td>\n",
       "      <td>107</td>\n",
       "      <td>6.7</td>\n",
       "      <td>5.5</td>\n",
       "      <td>Scholarship</td>\n",
       "      <td>Consultant</td>\n",
       "      <td>122248</td>\n",
       "      <td>Domestic</td>\n",
       "      <td>Skill Enhancement</td>\n",
       "      <td>Online</td>\n",
       "      <td>No</td>\n",
       "    </tr>\n",
       "    <tr>\n",
       "      <th>3</th>\n",
       "      <td>4</td>\n",
       "      <td>31</td>\n",
       "      <td>Male</td>\n",
       "      <td>Engineering</td>\n",
       "      <td>2.46</td>\n",
       "      <td>1</td>\n",
       "      <td>Manager</td>\n",
       "      <td>105956</td>\n",
       "      <td>No</td>\n",
       "      <td>356</td>\n",
       "      <td>257</td>\n",
       "      <td>1.0</td>\n",
       "      <td>5.3</td>\n",
       "      <td>Loan</td>\n",
       "      <td>Consultant</td>\n",
       "      <td>123797</td>\n",
       "      <td>International</td>\n",
       "      <td>Entrepreneurship</td>\n",
       "      <td>On-Campus</td>\n",
       "      <td>No</td>\n",
       "    </tr>\n",
       "    <tr>\n",
       "      <th>4</th>\n",
       "      <td>5</td>\n",
       "      <td>28</td>\n",
       "      <td>Female</td>\n",
       "      <td>Business</td>\n",
       "      <td>2.75</td>\n",
       "      <td>9</td>\n",
       "      <td>Entrepreneur</td>\n",
       "      <td>96132</td>\n",
       "      <td>No</td>\n",
       "      <td>472</td>\n",
       "      <td>338</td>\n",
       "      <td>9.5</td>\n",
       "      <td>4.9</td>\n",
       "      <td>Loan</td>\n",
       "      <td>Consultant</td>\n",
       "      <td>197509</td>\n",
       "      <td>Domestic</td>\n",
       "      <td>Skill Enhancement</td>\n",
       "      <td>Online</td>\n",
       "      <td>Yes</td>\n",
       "    </tr>\n",
       "  </tbody>\n",
       "</table>\n",
       "</div>"
      ],
      "text/plain": [
       "   Person ID  Age  Gender Undergraduate Major  Undergraduate GPA  \\\n",
       "0          1   27    Male                Arts               3.18   \n",
       "1          2   24    Male                Arts               3.03   \n",
       "2          3   33  Female            Business               3.66   \n",
       "3          4   31    Male         Engineering               2.46   \n",
       "4          5   28  Female            Business               2.75   \n",
       "\n",
       "   Years of Work Experience Current Job Title  Annual Salary (Before MBA)  \\\n",
       "0                         8      Entrepreneur                       90624   \n",
       "1                         4           Analyst                       53576   \n",
       "2                         9          Engineer                       79796   \n",
       "3                         1           Manager                      105956   \n",
       "4                         9      Entrepreneur                       96132   \n",
       "\n",
       "  Has Management Experience  GRE/GMAT Score  Undergrad University Ranking  \\\n",
       "0                        No             688                           185   \n",
       "1                       Yes             791                           405   \n",
       "2                        No             430                           107   \n",
       "3                        No             356                           257   \n",
       "4                        No             472                           338   \n",
       "\n",
       "   Entrepreneurial Interest  Networking Importance MBA Funding Source  \\\n",
       "0                       7.9                    7.6               Loan   \n",
       "1                       3.8                    4.1               Loan   \n",
       "2                       6.7                    5.5        Scholarship   \n",
       "3                       1.0                    5.3               Loan   \n",
       "4                       9.5                    4.9               Loan   \n",
       "\n",
       "  Desired Post-MBA Role  Expected Post-MBA Salary  \\\n",
       "0       Finance Manager                    156165   \n",
       "1       Startup Founder                    165612   \n",
       "2            Consultant                    122248   \n",
       "3            Consultant                    123797   \n",
       "4            Consultant                    197509   \n",
       "\n",
       "  Location Preference (Post-MBA)     Reason for MBA Online vs. On-Campus MBA  \\\n",
       "0                  International   Entrepreneurship                On-Campus   \n",
       "1                  International      Career Growth                   Online   \n",
       "2                       Domestic  Skill Enhancement                   Online   \n",
       "3                  International   Entrepreneurship                On-Campus   \n",
       "4                       Domestic  Skill Enhancement                   Online   \n",
       "\n",
       "  Decided to Pursue MBA?  \n",
       "0                    Yes  \n",
       "1                     No  \n",
       "2                     No  \n",
       "3                     No  \n",
       "4                    Yes  "
      ]
     },
     "execution_count": 2,
     "metadata": {},
     "output_type": "execute_result"
    }
   ],
   "source": [
    "# Import our csv file\n",
    "\n",
    "file = \"Resources/mba_decision_dataset.csv\"\n",
    "decision_df = pd.read_csv(file)\n",
    "decision_df.head()"
   ]
  },
  {
   "cell_type": "markdown",
   "id": "7835cc7d-2ffd-478f-b3a8-deb1c0eab4ab",
   "metadata": {},
   "source": [
    "### Creating a Gender based DataFrame"
   ]
  },
  {
   "cell_type": "code",
   "execution_count": 3,
   "id": "d82f1bc2-d337-4a39-b5c3-9df1e1f1aa89",
   "metadata": {},
   "outputs": [
    {
     "data": {
      "text/html": [
       "<div>\n",
       "<style scoped>\n",
       "    .dataframe tbody tr th:only-of-type {\n",
       "        vertical-align: middle;\n",
       "    }\n",
       "\n",
       "    .dataframe tbody tr th {\n",
       "        vertical-align: top;\n",
       "    }\n",
       "\n",
       "    .dataframe thead th {\n",
       "        text-align: right;\n",
       "    }\n",
       "</style>\n",
       "<table border=\"1\" class=\"dataframe\">\n",
       "  <thead>\n",
       "    <tr style=\"text-align: right;\">\n",
       "      <th></th>\n",
       "      <th>Person ID</th>\n",
       "      <th>Age</th>\n",
       "      <th>Gender</th>\n",
       "      <th>Decided to Pursue MBA?</th>\n",
       "      <th>Current Job Title</th>\n",
       "      <th>Annual Salary (Before MBA)</th>\n",
       "      <th>Years of Work Experience</th>\n",
       "      <th>Expected Post-MBA Salary</th>\n",
       "      <th>Reason for MBA</th>\n",
       "      <th>Has Management Experience</th>\n",
       "    </tr>\n",
       "  </thead>\n",
       "  <tbody>\n",
       "    <tr>\n",
       "      <th>0</th>\n",
       "      <td>1</td>\n",
       "      <td>27</td>\n",
       "      <td>Male</td>\n",
       "      <td>Yes</td>\n",
       "      <td>Entrepreneur</td>\n",
       "      <td>90624</td>\n",
       "      <td>8</td>\n",
       "      <td>156165</td>\n",
       "      <td>Entrepreneurship</td>\n",
       "      <td>No</td>\n",
       "    </tr>\n",
       "    <tr>\n",
       "      <th>1</th>\n",
       "      <td>2</td>\n",
       "      <td>24</td>\n",
       "      <td>Male</td>\n",
       "      <td>No</td>\n",
       "      <td>Analyst</td>\n",
       "      <td>53576</td>\n",
       "      <td>4</td>\n",
       "      <td>165612</td>\n",
       "      <td>Career Growth</td>\n",
       "      <td>Yes</td>\n",
       "    </tr>\n",
       "    <tr>\n",
       "      <th>2</th>\n",
       "      <td>3</td>\n",
       "      <td>33</td>\n",
       "      <td>Female</td>\n",
       "      <td>No</td>\n",
       "      <td>Engineer</td>\n",
       "      <td>79796</td>\n",
       "      <td>9</td>\n",
       "      <td>122248</td>\n",
       "      <td>Skill Enhancement</td>\n",
       "      <td>No</td>\n",
       "    </tr>\n",
       "    <tr>\n",
       "      <th>3</th>\n",
       "      <td>4</td>\n",
       "      <td>31</td>\n",
       "      <td>Male</td>\n",
       "      <td>No</td>\n",
       "      <td>Manager</td>\n",
       "      <td>105956</td>\n",
       "      <td>1</td>\n",
       "      <td>123797</td>\n",
       "      <td>Entrepreneurship</td>\n",
       "      <td>No</td>\n",
       "    </tr>\n",
       "    <tr>\n",
       "      <th>4</th>\n",
       "      <td>5</td>\n",
       "      <td>28</td>\n",
       "      <td>Female</td>\n",
       "      <td>Yes</td>\n",
       "      <td>Entrepreneur</td>\n",
       "      <td>96132</td>\n",
       "      <td>9</td>\n",
       "      <td>197509</td>\n",
       "      <td>Skill Enhancement</td>\n",
       "      <td>No</td>\n",
       "    </tr>\n",
       "  </tbody>\n",
       "</table>\n",
       "</div>"
      ],
      "text/plain": [
       "   Person ID  Age  Gender Decided to Pursue MBA? Current Job Title  \\\n",
       "0          1   27    Male                    Yes      Entrepreneur   \n",
       "1          2   24    Male                     No           Analyst   \n",
       "2          3   33  Female                     No          Engineer   \n",
       "3          4   31    Male                     No           Manager   \n",
       "4          5   28  Female                    Yes      Entrepreneur   \n",
       "\n",
       "   Annual Salary (Before MBA)  Years of Work Experience  \\\n",
       "0                       90624                         8   \n",
       "1                       53576                         4   \n",
       "2                       79796                         9   \n",
       "3                      105956                         1   \n",
       "4                       96132                         9   \n",
       "\n",
       "   Expected Post-MBA Salary     Reason for MBA Has Management Experience  \n",
       "0                    156165   Entrepreneurship                        No  \n",
       "1                    165612      Career Growth                       Yes  \n",
       "2                    122248  Skill Enhancement                        No  \n",
       "3                    123797   Entrepreneurship                        No  \n",
       "4                    197509  Skill Enhancement                        No  "
      ]
     },
     "execution_count": 3,
     "metadata": {},
     "output_type": "execute_result"
    }
   ],
   "source": [
    "#Create a gender-specific dataframe\n",
    "\n",
    "gender_based_df= decision_df[[\"Person ID\",\"Age\",\"Gender\",\"Decided to Pursue MBA?\",\"Current Job Title\",\"Annual Salary (Before MBA)\",\"Years of Work Experience\",\"Expected Post-MBA Salary\",\"Reason for MBA\",\"Has Management Experience\"]]\n",
    "gender_based_df.head()"
   ]
  },
  {
   "cell_type": "markdown",
   "id": "f19cbbe7-515c-485c-aa69-11c115b34c91",
   "metadata": {},
   "source": [
    "#### Analysis 1 - MBA V/S Gender"
   ]
  },
  {
   "cell_type": "code",
   "execution_count": 4,
   "id": "26dcbc8f-8cfc-4bf7-b476-809be3ce5ce8",
   "metadata": {},
   "outputs": [
    {
     "data": {
      "text/html": [
       "<div>\n",
       "<style scoped>\n",
       "    .dataframe tbody tr th:only-of-type {\n",
       "        vertical-align: middle;\n",
       "    }\n",
       "\n",
       "    .dataframe tbody tr th {\n",
       "        vertical-align: top;\n",
       "    }\n",
       "\n",
       "    .dataframe thead th {\n",
       "        text-align: right;\n",
       "    }\n",
       "</style>\n",
       "<table border=\"1\" class=\"dataframe\">\n",
       "  <thead>\n",
       "    <tr style=\"text-align: right;\">\n",
       "      <th></th>\n",
       "      <th>Person ID</th>\n",
       "      <th>Age</th>\n",
       "      <th>Gender</th>\n",
       "      <th>Decided to Pursue MBA?</th>\n",
       "      <th>Current Job Title</th>\n",
       "      <th>Annual Salary (Before MBA)</th>\n",
       "      <th>Years of Work Experience</th>\n",
       "      <th>Expected Post-MBA Salary</th>\n",
       "      <th>Reason for MBA</th>\n",
       "      <th>Has Management Experience</th>\n",
       "    </tr>\n",
       "  </thead>\n",
       "  <tbody>\n",
       "    <tr>\n",
       "      <th>0</th>\n",
       "      <td>1</td>\n",
       "      <td>27</td>\n",
       "      <td>Male</td>\n",
       "      <td>Yes</td>\n",
       "      <td>Entrepreneur</td>\n",
       "      <td>90624</td>\n",
       "      <td>8</td>\n",
       "      <td>156165</td>\n",
       "      <td>Entrepreneurship</td>\n",
       "      <td>No</td>\n",
       "    </tr>\n",
       "    <tr>\n",
       "      <th>4</th>\n",
       "      <td>5</td>\n",
       "      <td>28</td>\n",
       "      <td>Female</td>\n",
       "      <td>Yes</td>\n",
       "      <td>Entrepreneur</td>\n",
       "      <td>96132</td>\n",
       "      <td>9</td>\n",
       "      <td>197509</td>\n",
       "      <td>Skill Enhancement</td>\n",
       "      <td>No</td>\n",
       "    </tr>\n",
       "    <tr>\n",
       "      <th>7</th>\n",
       "      <td>8</td>\n",
       "      <td>27</td>\n",
       "      <td>Male</td>\n",
       "      <td>Yes</td>\n",
       "      <td>Engineer</td>\n",
       "      <td>100072</td>\n",
       "      <td>6</td>\n",
       "      <td>199447</td>\n",
       "      <td>Entrepreneurship</td>\n",
       "      <td>Yes</td>\n",
       "    </tr>\n",
       "    <tr>\n",
       "      <th>8</th>\n",
       "      <td>9</td>\n",
       "      <td>30</td>\n",
       "      <td>Female</td>\n",
       "      <td>Yes</td>\n",
       "      <td>Entrepreneur</td>\n",
       "      <td>118689</td>\n",
       "      <td>6</td>\n",
       "      <td>76037</td>\n",
       "      <td>Career Growth</td>\n",
       "      <td>Yes</td>\n",
       "    </tr>\n",
       "    <tr>\n",
       "      <th>9</th>\n",
       "      <td>10</td>\n",
       "      <td>23</td>\n",
       "      <td>Female</td>\n",
       "      <td>Yes</td>\n",
       "      <td>Entrepreneur</td>\n",
       "      <td>112387</td>\n",
       "      <td>3</td>\n",
       "      <td>92294</td>\n",
       "      <td>Entrepreneurship</td>\n",
       "      <td>No</td>\n",
       "    </tr>\n",
       "    <tr>\n",
       "      <th>...</th>\n",
       "      <td>...</td>\n",
       "      <td>...</td>\n",
       "      <td>...</td>\n",
       "      <td>...</td>\n",
       "      <td>...</td>\n",
       "      <td>...</td>\n",
       "      <td>...</td>\n",
       "      <td>...</td>\n",
       "      <td>...</td>\n",
       "      <td>...</td>\n",
       "    </tr>\n",
       "    <tr>\n",
       "      <th>9993</th>\n",
       "      <td>9994</td>\n",
       "      <td>25</td>\n",
       "      <td>Male</td>\n",
       "      <td>Yes</td>\n",
       "      <td>Entrepreneur</td>\n",
       "      <td>76025</td>\n",
       "      <td>8</td>\n",
       "      <td>86385</td>\n",
       "      <td>Skill Enhancement</td>\n",
       "      <td>No</td>\n",
       "    </tr>\n",
       "    <tr>\n",
       "      <th>9994</th>\n",
       "      <td>9995</td>\n",
       "      <td>23</td>\n",
       "      <td>Male</td>\n",
       "      <td>Yes</td>\n",
       "      <td>Entrepreneur</td>\n",
       "      <td>92456</td>\n",
       "      <td>7</td>\n",
       "      <td>135949</td>\n",
       "      <td>Networking</td>\n",
       "      <td>Yes</td>\n",
       "    </tr>\n",
       "    <tr>\n",
       "      <th>9995</th>\n",
       "      <td>9996</td>\n",
       "      <td>33</td>\n",
       "      <td>Female</td>\n",
       "      <td>Yes</td>\n",
       "      <td>Analyst</td>\n",
       "      <td>109172</td>\n",
       "      <td>5</td>\n",
       "      <td>69000</td>\n",
       "      <td>Networking</td>\n",
       "      <td>Yes</td>\n",
       "    </tr>\n",
       "    <tr>\n",
       "      <th>9997</th>\n",
       "      <td>9998</td>\n",
       "      <td>31</td>\n",
       "      <td>Female</td>\n",
       "      <td>Yes</td>\n",
       "      <td>Manager</td>\n",
       "      <td>34152</td>\n",
       "      <td>8</td>\n",
       "      <td>100806</td>\n",
       "      <td>Networking</td>\n",
       "      <td>Yes</td>\n",
       "    </tr>\n",
       "    <tr>\n",
       "      <th>9998</th>\n",
       "      <td>9999</td>\n",
       "      <td>22</td>\n",
       "      <td>Female</td>\n",
       "      <td>Yes</td>\n",
       "      <td>Engineer</td>\n",
       "      <td>61897</td>\n",
       "      <td>1</td>\n",
       "      <td>115872</td>\n",
       "      <td>Networking</td>\n",
       "      <td>No</td>\n",
       "    </tr>\n",
       "  </tbody>\n",
       "</table>\n",
       "<p>5907 rows × 10 columns</p>\n",
       "</div>"
      ],
      "text/plain": [
       "      Person ID  Age  Gender Decided to Pursue MBA? Current Job Title  \\\n",
       "0             1   27    Male                    Yes      Entrepreneur   \n",
       "4             5   28  Female                    Yes      Entrepreneur   \n",
       "7             8   27    Male                    Yes          Engineer   \n",
       "8             9   30  Female                    Yes      Entrepreneur   \n",
       "9            10   23  Female                    Yes      Entrepreneur   \n",
       "...         ...  ...     ...                    ...               ...   \n",
       "9993       9994   25    Male                    Yes      Entrepreneur   \n",
       "9994       9995   23    Male                    Yes      Entrepreneur   \n",
       "9995       9996   33  Female                    Yes           Analyst   \n",
       "9997       9998   31  Female                    Yes           Manager   \n",
       "9998       9999   22  Female                    Yes          Engineer   \n",
       "\n",
       "      Annual Salary (Before MBA)  Years of Work Experience  \\\n",
       "0                          90624                         8   \n",
       "4                          96132                         9   \n",
       "7                         100072                         6   \n",
       "8                         118689                         6   \n",
       "9                         112387                         3   \n",
       "...                          ...                       ...   \n",
       "9993                       76025                         8   \n",
       "9994                       92456                         7   \n",
       "9995                      109172                         5   \n",
       "9997                       34152                         8   \n",
       "9998                       61897                         1   \n",
       "\n",
       "      Expected Post-MBA Salary     Reason for MBA Has Management Experience  \n",
       "0                       156165   Entrepreneurship                        No  \n",
       "4                       197509  Skill Enhancement                        No  \n",
       "7                       199447   Entrepreneurship                       Yes  \n",
       "8                        76037      Career Growth                       Yes  \n",
       "9                        92294   Entrepreneurship                        No  \n",
       "...                        ...                ...                       ...  \n",
       "9993                     86385  Skill Enhancement                        No  \n",
       "9994                    135949         Networking                       Yes  \n",
       "9995                     69000         Networking                       Yes  \n",
       "9997                    100806         Networking                       Yes  \n",
       "9998                    115872         Networking                        No  \n",
       "\n",
       "[5907 rows x 10 columns]"
      ]
     },
     "execution_count": 4,
     "metadata": {},
     "output_type": "execute_result"
    }
   ],
   "source": [
    "MBA_pursuers = gender_based_df.loc[gender_based_df[\"Decided to Pursue MBA?\"] == \"Yes\"]\n",
    "MBA_pursuers"
   ]
  },
  {
   "cell_type": "code",
   "execution_count": 5,
   "id": "52b2d3dd-3b68-4370-aca1-92acfb5e91d5",
   "metadata": {},
   "outputs": [
    {
     "data": {
      "text/plain": [
       "Gender\n",
       "Male      2983\n",
       "Female    2643\n",
       "Other      281\n",
       "Name: count, dtype: int64"
      ]
     },
     "execution_count": 5,
     "metadata": {},
     "output_type": "execute_result"
    }
   ],
   "source": [
    "#Value counts of the gender\n",
    "gender_data_df = MBA_pursuers[\"Gender\"].value_counts()\n",
    "gender_data_df"
   ]
  },
  {
   "cell_type": "code",
   "execution_count": 6,
   "id": "71c74be8-047f-41ad-b165-8e50cefe3597",
   "metadata": {},
   "outputs": [
    {
     "data": {
      "image/png": "[encoded data removed]",
      "text/plain": [
       "<Figure size 640x480 with 1 Axes>"
      ]
     },
     "metadata": {},
     "output_type": "display_data"
    }
   ],
   "source": [
    "# Create a pie-chart showing gender that was more keen on pursuing the MBA\n",
    "\n",
    "gender_data_df.plot.pie(y = gender_data_df,labels = gender_data_df.index, autopct = \"%1.1f%%\", startangle=90)\n",
    "\n",
    "plt.title(\"Gender vs MBA Pursuers\")\n",
    "plt.ylabel(\"\")\n",
    "plt.show()"
   ]
  },
  {
   "cell_type": "markdown",
   "id": "8f1e7795-700d-4ff0-bb56-6dc525f0ed69",
   "metadata": {},
   "source": [
    "#### Report - 1\n"
   ]
  },
  {
   "cell_type": "markdown",
   "id": "827f7e09-e870-4f5e-8e6b-ce81462a47cb",
   "metadata": {},
   "source": [
    "The above analysis provides a closer look at the role of gender in likelihood of pursuing MBA. The analysis provides the following observation:-\n",
    "\n",
    "Gender\n",
    "Male      2983 (50.5%)\n",
    "Female    2643 (44.7%)\n",
    "Other      281 (4.8%)\n",
    "\n",
    "The observation reiterates and substantiates that more and more females are entering the finance field. It no more remains a male-dominated career as women as equally participating in it."
   ]
  },
  {
   "cell_type": "markdown",
   "id": "84d37fbf-08a0-4251-bad5-c17e7c521a97",
   "metadata": {},
   "source": [
    "#### Analysis - 2 "
   ]
  },
  {
   "cell_type": "markdown",
   "id": "46258172-2323-4de7-b77c-e87f2e2ac3e9",
   "metadata": {},
   "source": [
    "This analysis tries bring forth the average age when the individuals are more probable to enroll in the MBA courses. And does age play a part in enrolling the MBA courses."
   ]
  },
  {
   "cell_type": "code",
   "execution_count": 7,
   "id": "41d70349-dc69-4c96-a2aa-b7a417d55a21",
   "metadata": {},
   "outputs": [
    {
     "data": {
      "text/html": [
       "<div>\n",
       "<style scoped>\n",
       "    .dataframe tbody tr th:only-of-type {\n",
       "        vertical-align: middle;\n",
       "    }\n",
       "\n",
       "    .dataframe tbody tr th {\n",
       "        vertical-align: top;\n",
       "    }\n",
       "\n",
       "    .dataframe thead th {\n",
       "        text-align: right;\n",
       "    }\n",
       "</style>\n",
       "<table border=\"1\" class=\"dataframe\">\n",
       "  <thead>\n",
       "    <tr style=\"text-align: right;\">\n",
       "      <th></th>\n",
       "      <th>max</th>\n",
       "      <th>min</th>\n",
       "    </tr>\n",
       "    <tr>\n",
       "      <th>Gender</th>\n",
       "      <th></th>\n",
       "      <th></th>\n",
       "    </tr>\n",
       "  </thead>\n",
       "  <tbody>\n",
       "    <tr>\n",
       "      <th>Female</th>\n",
       "      <td>34</td>\n",
       "      <td>21</td>\n",
       "    </tr>\n",
       "    <tr>\n",
       "      <th>Male</th>\n",
       "      <td>34</td>\n",
       "      <td>21</td>\n",
       "    </tr>\n",
       "    <tr>\n",
       "      <th>Other</th>\n",
       "      <td>34</td>\n",
       "      <td>21</td>\n",
       "    </tr>\n",
       "  </tbody>\n",
       "</table>\n",
       "</div>"
      ],
      "text/plain": [
       "        max  min\n",
       "Gender          \n",
       "Female   34   21\n",
       "Male     34   21\n",
       "Other    34   21"
      ]
     },
     "execution_count": 7,
     "metadata": {},
     "output_type": "execute_result"
    }
   ],
   "source": [
    "# Here to show the maximum and the minimun age of the individuals joining the MBA course\n",
    "\n",
    "age_df= gender_based_df.groupby(\"Gender\")[\"Age\"].agg([\"max\", \"min\"])\n",
    "\n",
    "age_df"
   ]
  },
  {
   "cell_type": "code",
   "execution_count": 8,
   "id": "31f53229-3923-4fa4-bb08-ee5576c6b510",
   "metadata": {},
   "outputs": [
    {
     "data": {
      "text/plain": [
       "Gender\n",
       "Female    27.473094\n",
       "Male      27.539129\n",
       "Other     27.209850\n",
       "Name: Age, dtype: float64"
      ]
     },
     "execution_count": 8,
     "metadata": {},
     "output_type": "execute_result"
    }
   ],
   "source": [
    "#grouby age \n",
    "per_age_df =gender_based_df.groupby([\"Gender\"])[\"Age\"].mean()\n",
    "per_age_df\n"
   ]
  },
  {
   "cell_type": "code",
   "execution_count": 9,
   "id": "31625d78-ef5d-46a0-9379-f58048a0ac66",
   "metadata": {},
   "outputs": [
    {
     "data": {
      "text/plain": [
       "<function matplotlib.pyplot.show(close=None, block=None)>"
      ]
     },
     "execution_count": 9,
     "metadata": {},
     "output_type": "execute_result"
    },
    {
     "data": {
      "image/png": "[encoded data removed]",
      "text/plain": [
       "<Figure size 800x500 with 1 Axes>"
      ]
     },
     "metadata": {},
     "output_type": "display_data"
    }
   ],
   "source": [
    "# Create a bar chart that presents a comaprision between the age of the applicant and pursuing MBA\n",
    "\n",
    "age_comparision = gender_based_df.groupby([\"Gender\", \"Decided to Pursue MBA?\"])[\"Age\"].mean().unstack()\n",
    "\n",
    "#plot a bar cahrt\n",
    "age_comparision.plot(kind=\"bar\", figsize =(8,5), color=[\"green\",\"blue\"])\n",
    "\n",
    "plt.xlabel(\"Gender\")\n",
    "plt.ylabel(\"Average Age\")\n",
    "plt.title(\"Average Age by Gender and MBA Decision\")\n",
    "plt.legend(title=\"Pursued MBA\", labels = [\"No\", \"Yes\"])\n",
    "plt.show"
   ]
  },
  {
   "cell_type": "markdown",
   "id": "0fb1c120-f72c-4db6-9065-f0f070f24db1",
   "metadata": {},
   "source": [
    "#### Report - 2 \n"
   ]
  },
  {
   "cell_type": "markdown",
   "id": "a16de119-6622-4b1d-9453-c78129ae6216",
   "metadata": {},
   "source": [
    "In the second analysis, there is an attempt to put forth if the age influenced the participants decision to enroll in the MBA courses. The individals that enrolled in the course, their age ranged from early 20's to early 30's. The youngest being 21 years old among all genders and 34 years old being the oldest among all genders. And in the analysis above the mean age of the individuals enrolling in the MBA courses is 27 years of age among all genders. \n",
    "Gender\n",
    "Female    27.473094\n",
    "Male      27.539129\n",
    "Other     27.209850"
   ]
  },
  {
   "cell_type": "markdown",
   "id": "0c975ca4-0a2c-4164-8013-b03673e9313a",
   "metadata": {},
   "source": [
    "#### Analysis - 3"
   ]
  },
  {
   "cell_type": "markdown",
   "id": "57714c15-4bef-4a6d-bb78-3b8ee4461f02",
   "metadata": {},
   "source": [
    "The subsequent analysis shows the change in the salaries of the individuals before and after enrolling in the MBA courses, that is a powerful motivator to pursue the MBA degree."
   ]
  },
  {
   "cell_type": "code",
   "execution_count": 10,
   "id": "cf2e2f71-c350-4b3c-bed5-b18d5193c784",
   "metadata": {},
   "outputs": [
    {
     "data": {
      "text/plain": [
       "Gender\n",
       "Female    75445.644170\n",
       "Male      75044.583284\n",
       "Other     73822.955032\n",
       "Name: Annual Salary (Before MBA), dtype: float64"
      ]
     },
     "execution_count": 10,
     "metadata": {},
     "output_type": "execute_result"
    }
   ],
   "source": [
    "#grouby salaries before MBA\n",
    "per_salaries_df =gender_based_df.groupby([\"Gender\"])[\"Annual Salary (Before MBA)\"].mean()\n",
    "per_salaries_df\n",
    "\n"
   ]
  },
  {
   "cell_type": "code",
   "execution_count": 11,
   "id": "4d679383-949c-4f52-94e1-f83eb9c52da3",
   "metadata": {
    "scrolled": true
   },
   "outputs": [
    {
     "data": {
      "text/plain": [
       "Gender\n",
       "Female    130626.802691\n",
       "Male      129936.032131\n",
       "Other     131587.276231\n",
       "Name: Expected Post-MBA Salary, dtype: float64"
      ]
     },
     "execution_count": 11,
     "metadata": {},
     "output_type": "execute_result"
    }
   ],
   "source": [
    "#grouby salaries after MBA\n",
    "per_salaries1_df =gender_based_df.groupby([\"Gender\"])[\"Expected Post-MBA Salary\"].mean()\n",
    "per_salaries1_df\n"
   ]
  },
  {
   "cell_type": "code",
   "execution_count": 12,
   "id": "f3eed694-baaa-4e6c-b24d-3e903b765065",
   "metadata": {},
   "outputs": [
    {
     "data": {
      "image/png": "[encoded data removed]",
      "text/plain": [
       "<Figure size 800x500 with 1 Axes>"
      ]
     },
     "metadata": {},
     "output_type": "display_data"
    }
   ],
   "source": [
    "#Create a line chart showing the average salaries before the applicants pursued MBA\n",
    "\n",
    "gender_salary = decision_df.groupby(\"Gender\")[[\"Annual Salary (Before MBA)\", \"Expected Post-MBA Salary\"]].mean()\n",
    "\n",
    "#Plot the data\n",
    "plt.figure(figsize=(8,5))\n",
    "plt.plot(gender_salary.index, gender_salary[\"Annual Salary (Before MBA)\"], marker = 'o', label=\"Before MBA\")\n",
    "plt.plot(gender_salary.index, gender_salary[\"Expected Post-MBA Salary\"], marker ='s', label= \"After MBA\")\n",
    "\n",
    "#labels\n",
    "plt.xlabel(\"Gender\")\n",
    "plt.ylabel(\"Salary\")\n",
    "plt.title(\"Average Salary before and after MBA by Gender\")\n",
    "plt.legend()\n",
    "plt.grid(\"True\")\n",
    "\n",
    "\n",
    "\n",
    "#Show plot\n",
    "plt.show()"
   ]
  },
  {
   "cell_type": "markdown",
   "id": "994ee683-a545-4612-a22d-2bf6e37402e0",
   "metadata": {},
   "source": [
    "### Report - 3"
   ]
  },
  {
   "cell_type": "markdown",
   "id": "8fdad062-9c50-4efb-bde7-afd26c6e5017",
   "metadata": {},
   "source": [
    "The monetary benefit i.e., the salary increase is a strong motivator for individuals to pursue MBA. There is a significant rise in the salaries of indivduals after pursuing the MBA courses. The average increase among the genders more or less remains the same. The average rise being close to $55,000 approx.\n",
    "The average salary among the genders before MBA is as follows:-\n",
    "Gender:\n",
    "Female    75445.644170\n",
    "Male      75044.583284\n",
    "Other     73822.955032\n",
    "\n",
    "The average salary among the genders post MBA is as follows:-\n",
    "Gender:\n",
    "Female    130626.802691\n",
    "Male      129936.032131\n",
    "Other     131587.276231\n"
   ]
  },
  {
   "cell_type": "markdown",
   "id": "5069dd6c-0d9c-4a87-b163-63f885f2364d",
   "metadata": {},
   "source": [
    "### Analysis - 4"
   ]
  },
  {
   "cell_type": "markdown",
   "id": "1ef128e3-7866-42fc-bf5f-da112bb92104",
   "metadata": {},
   "source": [
    "The following analysis tries to show the role of previous management experience has on the individuals (based on gender) willingness to pursue MBA. "
   ]
  },
  {
   "cell_type": "code",
   "execution_count": 13,
   "id": "0cd5dece-1803-404b-a43e-913c4f18d059",
   "metadata": {},
   "outputs": [
    {
     "data": {
      "text/plain": [
       "Has Management Experience\n",
       "No     3566\n",
       "Yes    2341\n",
       "Name: count, dtype: int64"
      ]
     },
     "execution_count": 13,
     "metadata": {},
     "output_type": "execute_result"
    }
   ],
   "source": [
    "gender_data_df_1 = MBA_pursuers[\"Has Management Experience\"].value_counts()\n",
    "gender_data_df_1"
   ]
  },
  {
   "cell_type": "code",
   "execution_count": 14,
   "id": "cb97fe5d-af0f-434d-8580-6857cedab2d8",
   "metadata": {},
   "outputs": [
    {
     "data": {
      "image/png": "[encoded data removed]",
      "text/plain": [
       "<Figure size 640x480 with 1 Axes>"
      ]
     },
     "metadata": {},
     "output_type": "display_data"
    }
   ],
   "source": [
    "# Create a pie-chart showing gender that was more keen on pursuing the MBA\n",
    "\n",
    "gender_data_df_1.plot.pie(y = MBA_pursuers,labels = gender_data_df_1.index, autopct = \"%1.1f%%\", startangle=90)\n",
    "\n",
    "plt.title(\"Gender vs Management Experience\")\n",
    "plt.ylabel(\"\")\n",
    "plt.show()"
   ]
  },
  {
   "cell_type": "markdown",
   "id": "1833f4e4-b992-4c72-8894-6f3eb3986522",
   "metadata": {},
   "source": [
    "### Report - 4"
   ]
  },
  {
   "cell_type": "markdown",
   "id": "46b3374d-a323-4054-84ae-e9f6e23a6d97",
   "metadata": {},
   "source": [
    "The above analysis presents that the individauls without management experience were slightly more likely to enroll in the MBA courses. The results were as follows:-\n",
    "\n",
    "Has Management Experience:\n",
    "No     3566 (60.4%)\n",
    "Yes    2341 (39.6%)"
   ]
  },
  {
   "cell_type": "markdown",
   "id": "76d2116e-3177-45bf-8f39-e530c6f3e0c0",
   "metadata": {},
   "source": [
    "### Analysis - 5"
   ]
  },
  {
   "cell_type": "markdown",
   "id": "09596c62-949b-4806-8e24-ae5f5c9d31b3",
   "metadata": {},
   "source": [
    "The following analysis shows the years of work experience an individual has before they enroll in the MBA courses."
   ]
  },
  {
   "cell_type": "code",
   "execution_count": 15,
   "id": "7f7fdf1e-4126-4db7-8bfd-5c7320e4164b",
   "metadata": {},
   "outputs": [
    {
     "data": {
      "text/plain": [
       "Years of Work Experience\n",
       "6    618\n",
       "4    607\n",
       "7    604\n",
       "1    599\n",
       "8    594\n",
       "5    593\n",
       "2    580\n",
       "9    573\n",
       "0    571\n",
       "3    568\n",
       "Name: count, dtype: int64"
      ]
     },
     "execution_count": 15,
     "metadata": {},
     "output_type": "execute_result"
    }
   ],
   "source": [
    "# Count of the Years of Experience\n",
    "gender_data_df_2 = MBA_pursuers[\"Years of Work Experience\"].value_counts()\n",
    "gender_data_df_2"
   ]
  },
  {
   "cell_type": "code",
   "execution_count": 16,
   "id": "de2f3aa9-9f57-4203-9196-fbda423d5140",
   "metadata": {},
   "outputs": [
    {
     "data": {
      "text/plain": [
       "Gender\n",
       "Female    4.508135\n",
       "Male      4.538719\n",
       "Other     4.437722\n",
       "Name: Years of Work Experience, dtype: float64"
      ]
     },
     "execution_count": 16,
     "metadata": {},
     "output_type": "execute_result"
    }
   ],
   "source": [
    "# Average work experience individuals before enrolling in the MBA course\n",
    "workexperience_comparision = MBA_pursuers.groupby([\"Gender\"])[\"Years of Work Experience\"].mean()\n",
    "workexperience_comparision"
   ]
  },
  {
   "cell_type": "code",
   "execution_count": 17,
   "id": "3c03a8f3-d803-4bbb-9bd0-b31f5acf67da",
   "metadata": {},
   "outputs": [
    {
     "data": {
      "text/plain": [
       "<function matplotlib.pyplot.show(close=None, block=None)>"
      ]
     },
     "execution_count": 17,
     "metadata": {},
     "output_type": "execute_result"
    },
    {
     "data": {
      "image/png": "[encoded data removed]",
      "text/plain": [
       "<Figure size 800x500 with 1 Axes>"
      ]
     },
     "metadata": {},
     "output_type": "display_data"
    }
   ],
   "source": [
    "# Create a bar chart that presents a comaprision between the gender and the years of work experience of the applicant in pursuing MBA\n",
    "\n",
    "workexperience_comparision = MBA_pursuers.groupby([\"Gender\"])[\"Years of Work Experience\"].mean()\n",
    "\n",
    "#plot a bar chart\n",
    "workexperience_comparision.plot(kind=\"bar\", figsize =(8,5), color=[\"skyblue\"])\n",
    "\n",
    "plt.xlabel(\"Gender\")\n",
    "plt.ylabel(\"Years of Experience\")\n",
    "plt.title(\"Gender v/s Years of Work Experience\")\n",
    "plt.show"
   ]
  },
  {
   "cell_type": "markdown",
   "id": "cdf7b887-6fa0-457d-9501-e26ef0fa23cb",
   "metadata": {},
   "source": [
    "### Report - 5"
   ]
  },
  {
   "cell_type": "markdown",
   "id": "b90261b6-3088-440c-aebe-12f2c06b55a7",
   "metadata": {},
   "source": [
    "\n",
    "The comparision between between the work experience and the enrollment in the MBA courses does not present a clear outcome. There is an average work experience of 4 years among all the genders. The work experience ranges between 1 to 9 years. The results are follows:-\n",
    "\n",
    "Gender\n",
    "Female    4.508135\n",
    "Male      4.538719\n",
    "Other     4.437722\n",
    "\n",
    "Years of Work Experience\n",
    "6    618\n",
    "4    607\n",
    "7    604\n",
    "1    599\n",
    "8    594\n",
    "5    593\n",
    "2    580\n",
    "9    573\n",
    "0    571\n",
    "3    568"
   ]
  },
  {
   "cell_type": "code",
   "execution_count": null,
   "id": "12d1c37d-2a20-49d2-b9f8-7471cbaf440a",
   "metadata": {},
   "outputs": [],
   "source": []
  }
 ],
 "metadata": {
  "kernelspec": {
   "display_name": "Python 3 (ipykernel)",
   "language": "python",
   "name": "python3"
  },
  "language_info": {
   "codemirror_mode": {
    "name": "ipython",
    "version": 3
   },
   "file_extension": ".py",
   "mimetype": "text/x-python",
   "name": "python",
   "nbconvert_exporter": "python",
   "pygments_lexer": "ipython3",
   "version": "3.11.5"
  }
 },
 "nbformat": 4,
 "nbformat_minor": 5
}
